{
 "cells": [
  {
   "cell_type": "code",
   "execution_count": 1,
   "metadata": {},
   "outputs": [],
   "source": [
    "import numpy as np\n",
    "import pandas as pd\n",
    "import matplotlib.pyplot as plt\n",
    "%matplotlib inline \n",
    "\n",
    "import warnings\n",
    "warnings.filterwarnings(\"ignore\")\n"
   ]
  },
  {
   "cell_type": "code",
   "execution_count": 2,
   "metadata": {},
   "outputs": [],
   "source": [
    "df = pd.read_csv(\"diabetes.csv\")"
   ]
  },
  {
   "cell_type": "code",
   "execution_count": 3,
   "metadata": {},
   "outputs": [
    {
     "data": {
      "text/html": [
       "<div>\n",
       "<style scoped>\n",
       "    .dataframe tbody tr th:only-of-type {\n",
       "        vertical-align: middle;\n",
       "    }\n",
       "\n",
       "    .dataframe tbody tr th {\n",
       "        vertical-align: top;\n",
       "    }\n",
       "\n",
       "    .dataframe thead th {\n",
       "        text-align: right;\n",
       "    }\n",
       "</style>\n",
       "<table border=\"1\" class=\"dataframe\">\n",
       "  <thead>\n",
       "    <tr style=\"text-align: right;\">\n",
       "      <th></th>\n",
       "      <th>Pregnancies</th>\n",
       "      <th>Glucose</th>\n",
       "      <th>BloodPressure</th>\n",
       "      <th>SkinThickness</th>\n",
       "      <th>Insulin</th>\n",
       "      <th>BMI</th>\n",
       "      <th>DiabetesPedigreeFunction</th>\n",
       "      <th>Age</th>\n",
       "      <th>Outcome</th>\n",
       "    </tr>\n",
       "  </thead>\n",
       "  <tbody>\n",
       "    <tr>\n",
       "      <th>0</th>\n",
       "      <td>6</td>\n",
       "      <td>148</td>\n",
       "      <td>72</td>\n",
       "      <td>35</td>\n",
       "      <td>0</td>\n",
       "      <td>33.6</td>\n",
       "      <td>0.627</td>\n",
       "      <td>50</td>\n",
       "      <td>1</td>\n",
       "    </tr>\n",
       "    <tr>\n",
       "      <th>1</th>\n",
       "      <td>1</td>\n",
       "      <td>85</td>\n",
       "      <td>66</td>\n",
       "      <td>29</td>\n",
       "      <td>0</td>\n",
       "      <td>26.6</td>\n",
       "      <td>0.351</td>\n",
       "      <td>31</td>\n",
       "      <td>0</td>\n",
       "    </tr>\n",
       "    <tr>\n",
       "      <th>2</th>\n",
       "      <td>8</td>\n",
       "      <td>183</td>\n",
       "      <td>64</td>\n",
       "      <td>0</td>\n",
       "      <td>0</td>\n",
       "      <td>23.3</td>\n",
       "      <td>0.672</td>\n",
       "      <td>32</td>\n",
       "      <td>1</td>\n",
       "    </tr>\n",
       "    <tr>\n",
       "      <th>3</th>\n",
       "      <td>1</td>\n",
       "      <td>89</td>\n",
       "      <td>66</td>\n",
       "      <td>23</td>\n",
       "      <td>94</td>\n",
       "      <td>28.1</td>\n",
       "      <td>0.167</td>\n",
       "      <td>21</td>\n",
       "      <td>0</td>\n",
       "    </tr>\n",
       "    <tr>\n",
       "      <th>4</th>\n",
       "      <td>0</td>\n",
       "      <td>137</td>\n",
       "      <td>40</td>\n",
       "      <td>35</td>\n",
       "      <td>168</td>\n",
       "      <td>43.1</td>\n",
       "      <td>2.288</td>\n",
       "      <td>33</td>\n",
       "      <td>1</td>\n",
       "    </tr>\n",
       "    <tr>\n",
       "      <th>...</th>\n",
       "      <td>...</td>\n",
       "      <td>...</td>\n",
       "      <td>...</td>\n",
       "      <td>...</td>\n",
       "      <td>...</td>\n",
       "      <td>...</td>\n",
       "      <td>...</td>\n",
       "      <td>...</td>\n",
       "      <td>...</td>\n",
       "    </tr>\n",
       "    <tr>\n",
       "      <th>763</th>\n",
       "      <td>10</td>\n",
       "      <td>101</td>\n",
       "      <td>76</td>\n",
       "      <td>48</td>\n",
       "      <td>180</td>\n",
       "      <td>32.9</td>\n",
       "      <td>0.171</td>\n",
       "      <td>63</td>\n",
       "      <td>0</td>\n",
       "    </tr>\n",
       "    <tr>\n",
       "      <th>764</th>\n",
       "      <td>2</td>\n",
       "      <td>122</td>\n",
       "      <td>70</td>\n",
       "      <td>27</td>\n",
       "      <td>0</td>\n",
       "      <td>36.8</td>\n",
       "      <td>0.340</td>\n",
       "      <td>27</td>\n",
       "      <td>0</td>\n",
       "    </tr>\n",
       "    <tr>\n",
       "      <th>765</th>\n",
       "      <td>5</td>\n",
       "      <td>121</td>\n",
       "      <td>72</td>\n",
       "      <td>23</td>\n",
       "      <td>112</td>\n",
       "      <td>26.2</td>\n",
       "      <td>0.245</td>\n",
       "      <td>30</td>\n",
       "      <td>0</td>\n",
       "    </tr>\n",
       "    <tr>\n",
       "      <th>766</th>\n",
       "      <td>1</td>\n",
       "      <td>126</td>\n",
       "      <td>60</td>\n",
       "      <td>0</td>\n",
       "      <td>0</td>\n",
       "      <td>30.1</td>\n",
       "      <td>0.349</td>\n",
       "      <td>47</td>\n",
       "      <td>1</td>\n",
       "    </tr>\n",
       "    <tr>\n",
       "      <th>767</th>\n",
       "      <td>1</td>\n",
       "      <td>93</td>\n",
       "      <td>70</td>\n",
       "      <td>31</td>\n",
       "      <td>0</td>\n",
       "      <td>30.4</td>\n",
       "      <td>0.315</td>\n",
       "      <td>23</td>\n",
       "      <td>0</td>\n",
       "    </tr>\n",
       "  </tbody>\n",
       "</table>\n",
       "<p>768 rows × 9 columns</p>\n",
       "</div>"
      ],
      "text/plain": [
       "     Pregnancies  Glucose  BloodPressure  SkinThickness  Insulin   BMI  \\\n",
       "0              6      148             72             35        0  33.6   \n",
       "1              1       85             66             29        0  26.6   \n",
       "2              8      183             64              0        0  23.3   \n",
       "3              1       89             66             23       94  28.1   \n",
       "4              0      137             40             35      168  43.1   \n",
       "..           ...      ...            ...            ...      ...   ...   \n",
       "763           10      101             76             48      180  32.9   \n",
       "764            2      122             70             27        0  36.8   \n",
       "765            5      121             72             23      112  26.2   \n",
       "766            1      126             60              0        0  30.1   \n",
       "767            1       93             70             31        0  30.4   \n",
       "\n",
       "     DiabetesPedigreeFunction  Age  Outcome  \n",
       "0                       0.627   50        1  \n",
       "1                       0.351   31        0  \n",
       "2                       0.672   32        1  \n",
       "3                       0.167   21        0  \n",
       "4                       2.288   33        1  \n",
       "..                        ...  ...      ...  \n",
       "763                     0.171   63        0  \n",
       "764                     0.340   27        0  \n",
       "765                     0.245   30        0  \n",
       "766                     0.349   47        1  \n",
       "767                     0.315   23        0  \n",
       "\n",
       "[768 rows x 9 columns]"
      ]
     },
     "execution_count": 3,
     "metadata": {},
     "output_type": "execute_result"
    }
   ],
   "source": [
    "df"
   ]
  },
  {
   "cell_type": "code",
   "execution_count": 4,
   "metadata": {},
   "outputs": [
    {
     "data": {
      "text/html": [
       "<div>\n",
       "<style scoped>\n",
       "    .dataframe tbody tr th:only-of-type {\n",
       "        vertical-align: middle;\n",
       "    }\n",
       "\n",
       "    .dataframe tbody tr th {\n",
       "        vertical-align: top;\n",
       "    }\n",
       "\n",
       "    .dataframe thead th {\n",
       "        text-align: right;\n",
       "    }\n",
       "</style>\n",
       "<table border=\"1\" class=\"dataframe\">\n",
       "  <thead>\n",
       "    <tr style=\"text-align: right;\">\n",
       "      <th></th>\n",
       "      <th>Pregnancies</th>\n",
       "      <th>Glucose</th>\n",
       "      <th>BloodPressure</th>\n",
       "      <th>SkinThickness</th>\n",
       "      <th>Insulin</th>\n",
       "      <th>BMI</th>\n",
       "      <th>DiabetesPedigreeFunction</th>\n",
       "      <th>Age</th>\n",
       "    </tr>\n",
       "  </thead>\n",
       "  <tbody>\n",
       "    <tr>\n",
       "      <th>0</th>\n",
       "      <td>6</td>\n",
       "      <td>148</td>\n",
       "      <td>72</td>\n",
       "      <td>35</td>\n",
       "      <td>0</td>\n",
       "      <td>33.6</td>\n",
       "      <td>0.627</td>\n",
       "      <td>50</td>\n",
       "    </tr>\n",
       "    <tr>\n",
       "      <th>1</th>\n",
       "      <td>1</td>\n",
       "      <td>85</td>\n",
       "      <td>66</td>\n",
       "      <td>29</td>\n",
       "      <td>0</td>\n",
       "      <td>26.6</td>\n",
       "      <td>0.351</td>\n",
       "      <td>31</td>\n",
       "    </tr>\n",
       "    <tr>\n",
       "      <th>2</th>\n",
       "      <td>8</td>\n",
       "      <td>183</td>\n",
       "      <td>64</td>\n",
       "      <td>0</td>\n",
       "      <td>0</td>\n",
       "      <td>23.3</td>\n",
       "      <td>0.672</td>\n",
       "      <td>32</td>\n",
       "    </tr>\n",
       "    <tr>\n",
       "      <th>3</th>\n",
       "      <td>1</td>\n",
       "      <td>89</td>\n",
       "      <td>66</td>\n",
       "      <td>23</td>\n",
       "      <td>94</td>\n",
       "      <td>28.1</td>\n",
       "      <td>0.167</td>\n",
       "      <td>21</td>\n",
       "    </tr>\n",
       "    <tr>\n",
       "      <th>4</th>\n",
       "      <td>0</td>\n",
       "      <td>137</td>\n",
       "      <td>40</td>\n",
       "      <td>35</td>\n",
       "      <td>168</td>\n",
       "      <td>43.1</td>\n",
       "      <td>2.288</td>\n",
       "      <td>33</td>\n",
       "    </tr>\n",
       "  </tbody>\n",
       "</table>\n",
       "</div>"
      ],
      "text/plain": [
       "   Pregnancies  Glucose  BloodPressure  SkinThickness  Insulin   BMI  \\\n",
       "0            6      148             72             35        0  33.6   \n",
       "1            1       85             66             29        0  26.6   \n",
       "2            8      183             64              0        0  23.3   \n",
       "3            1       89             66             23       94  28.1   \n",
       "4            0      137             40             35      168  43.1   \n",
       "\n",
       "   DiabetesPedigreeFunction  Age  \n",
       "0                     0.627   50  \n",
       "1                     0.351   31  \n",
       "2                     0.672   32  \n",
       "3                     0.167   21  \n",
       "4                     2.288   33  "
      ]
     },
     "execution_count": 4,
     "metadata": {},
     "output_type": "execute_result"
    }
   ],
   "source": [
    "df = df.drop(\"Outcome\",axis=1) \n",
    "df.head()"
   ]
  },
  {
   "cell_type": "code",
   "execution_count": 5,
   "metadata": {},
   "outputs": [
    {
     "name": "stdout",
     "output_type": "stream",
     "text": [
      "       Pregnancies     Glucose  BloodPressure  SkinThickness     Insulin  \\\n",
      "count   768.000000  768.000000     768.000000     768.000000  768.000000   \n",
      "mean      3.845052  120.894531      69.105469      20.536458   79.799479   \n",
      "std       3.369578   31.972618      19.355807      15.952218  115.244002   \n",
      "min       0.000000    0.000000       0.000000       0.000000    0.000000   \n",
      "25%       1.000000   99.000000      62.000000       0.000000    0.000000   \n",
      "50%       3.000000  117.000000      72.000000      23.000000   30.500000   \n",
      "75%       6.000000  140.250000      80.000000      32.000000  127.250000   \n",
      "max      17.000000  199.000000     122.000000      99.000000  846.000000   \n",
      "\n",
      "              BMI  DiabetesPedigreeFunction         Age  \n",
      "count  768.000000                768.000000  768.000000  \n",
      "mean    31.992578                  0.471876   33.240885  \n",
      "std      7.884160                  0.331329   11.760232  \n",
      "min      0.000000                  0.078000   21.000000  \n",
      "25%     27.300000                  0.243750   24.000000  \n",
      "50%     32.000000                  0.372500   29.000000  \n",
      "75%     36.600000                  0.626250   41.000000  \n",
      "max     67.100000                  2.420000   81.000000  \n"
     ]
    }
   ],
   "source": [
    "print(df.describe()) "
   ]
  },
  {
   "cell_type": "code",
   "execution_count": 6,
   "metadata": {},
   "outputs": [],
   "source": [
    "from sklearn.preprocessing import scale "
   ]
  },
  {
   "cell_type": "code",
   "execution_count": 7,
   "metadata": {},
   "outputs": [
    {
     "name": "stdout",
     "output_type": "stream",
     "text": [
      "          0         1         2         3         4         5         6  \\\n",
      "0  0.639947  0.848324  0.149641  0.907270 -0.692891  0.204013  0.468492   \n",
      "1 -0.844885 -1.123396 -0.160546  0.530902 -0.692891 -0.684422 -0.365061   \n",
      "2  1.233880  1.943724 -0.263941 -1.288212 -0.692891 -1.103255  0.604397   \n",
      "3 -0.844885 -0.998208 -0.160546  0.154533  0.123302 -0.494043 -0.920763   \n",
      "4 -1.141852  0.504055 -1.504687  0.907270  0.765836  1.409746  5.484909   \n",
      "5  0.342981 -0.153185  0.253036 -1.288212 -0.692891 -0.811341 -0.818079   \n",
      "6 -0.250952 -1.342476 -0.987710  0.719086  0.071204 -0.125977 -0.676133   \n",
      "7  1.827813 -0.184482 -3.572597 -1.288212 -0.692891  0.419775 -1.020427   \n",
      "8 -0.547919  2.381884  0.046245  1.534551  4.021922 -0.189437 -0.947944   \n",
      "9  1.233880  0.128489  1.390387 -1.288212 -0.692891 -4.060474 -0.724455   \n",
      "\n",
      "          7  \n",
      "0  1.425995  \n",
      "1 -0.190672  \n",
      "2 -0.105584  \n",
      "3 -1.041549  \n",
      "4 -0.020496  \n",
      "5 -0.275760  \n",
      "6 -0.616111  \n",
      "7 -0.360847  \n",
      "8  1.681259  \n",
      "9  1.766346  \n"
     ]
    }
   ],
   "source": [
    "X = pd.DataFrame(scale(df)) \n",
    "print(X.head(n=10)) "
   ]
  },
  {
   "cell_type": "code",
   "execution_count": 8,
   "metadata": {},
   "outputs": [],
   "source": [
    "from sklearn.cluster import KMeans \n"
   ]
  },
  {
   "cell_type": "code",
   "execution_count": 9,
   "metadata": {},
   "outputs": [
    {
     "data": {
      "text/plain": [
       "KMeans(n_clusters=3, random_state=12)"
      ]
     },
     "execution_count": 9,
     "metadata": {},
     "output_type": "execute_result"
    }
   ],
   "source": [
    "clustering = KMeans(n_clusters=3, random_state=12) \n",
    "clustering.fit(X) "
   ]
  },
  {
   "cell_type": "code",
   "execution_count": 10,
   "metadata": {},
   "outputs": [
    {
     "data": {
      "text/plain": [
       "KMeans(n_clusters=3, random_state=12)"
      ]
     },
     "execution_count": 10,
     "metadata": {},
     "output_type": "execute_result"
    }
   ],
   "source": [
    "clustering"
   ]
  },
  {
   "cell_type": "code",
   "execution_count": 11,
   "metadata": {},
   "outputs": [
    {
     "name": "stdout",
     "output_type": "stream",
     "text": [
      "[[-0.35819002  0.55983946  0.22359726  0.89652484  0.97458723  0.62331635\n",
      "   0.38707461 -0.22179196]\n",
      " [-0.46067918 -0.54843901 -0.41228464 -0.33221423 -0.37997137 -0.44368966\n",
      "  -0.21923475 -0.59010462]\n",
      " [ 1.08194386  0.2972029   0.42159496 -0.37996824 -0.38353716  0.06924224\n",
      "  -0.04523723  1.14777824]]\n"
     ]
    }
   ],
   "source": [
    "print(clustering.cluster_centers_)"
   ]
  },
  {
   "cell_type": "code",
   "execution_count": 12,
   "metadata": {},
   "outputs": [
    {
     "name": "stdout",
     "output_type": "stream",
     "text": [
      "13\n"
     ]
    }
   ],
   "source": [
    "print(clustering.n_iter_)"
   ]
  },
  {
   "cell_type": "code",
   "execution_count": 13,
   "metadata": {},
   "outputs": [
    {
     "name": "stdout",
     "output_type": "stream",
     "text": [
      "[2 1 2 1 0 1 1 1 0 2 1 2 2 0 2 1 0 1 1 0 0 2 2 2 2 2 2 1 2 2 2 0 1 1 2 0 2\n",
      " 2 1 0 0 2 2 2 2 0 1 1 2 1 1 1 1 2 0 1 0 0 0 0 1 2 1 0 2 1 0 2 1 0 1 0 2 0\n",
      " 1 1 2 1 1 1 1 1 2 1 2 0 2 1 2 1 1 0 2 2 1 0 1 1 1 0 0 1 1 1 1 0 1 0 1 1 0\n",
      " 0 1 1 0 2 2 1 1 1 0 1 1 2 1 0 0 1 0 2 0 2 0 2 1 1 1 1 1 0 2 2 1 2 0 1 2 0\n",
      " 2 1 0 1 2 0 2 0 1 1 1 2 2 2 0 1 1 2 1 1 1 1 2 0 1 0 1 0 2 0 2 2 1 1 1 1 2\n",
      " 2 0 0 0 0 1 2 2 2 2 0 1 1 0 0 1 1 1 1 2 1 2 2 1 2 1 0 2 0 2 0 0 0 1 2 0 2\n",
      " 1 2 1 1 1 0 0 0 1 0 1 1 1 2 2 0 2 1 1 1 1 0 0 2 2 0 0 1 2 1 1 1 2 1 1 1 0\n",
      " 2 0 1 1 2 1 2 1 0 1 1 2 1 1 1 2 0 1 1 2 1 1 2 2 2 2 2 0 0 1 0 1 0 0 0 2 0\n",
      " 0 0 2 2 1 0 1 2 1 0 2 1 0 0 1 0 1 1 2 1 1 1 0 2 1 1 1 2 1 1 0 2 0 2 2 1 1\n",
      " 2 1 0 1 2 0 2 1 1 1 2 2 2 1 1 1 1 1 1 1 1 1 2 0 2 2 0 0 2 2 2 0 1 1 1 1 0\n",
      " 0 1 1 1 0 2 1 1 2 0 1 1 1 1 1 1 2 2 2 1 0 2 0 1 2 0 1 1 1 0 1 2 0 2 2 0 2\n",
      " 1 2 0 0 0 0 1 0 0 1 0 1 1 0 1 0 1 0 0 1 0 0 0 1 1 1 1 1 1 2 1 1 2 0 1 1 2\n",
      " 1 0 1 0 1 1 1 1 0 2 1 2 2 1 0 2 2 1 2 1 2 1 1 0 1 0 0 1 1 2 1 2 0 1 2 2 0\n",
      " 0 1 1 1 0 0 0 1 2 1 1 1 2 1 2 1 1 2 0 1 1 1 2 1 2 0 0 1 2 2 1 2 1 1 0 2 2\n",
      " 2 2 1 0 1 2 1 1 1 1 0 1 1 1 0 1 1 1 1 1 0 0 0 0 2 1 1 0 0 0 0 2 1 1 2 1 1\n",
      " 0 1 2 2 2 2 0 1 1 1 1 1 2 0 0 1 1 1 1 0 0 1 1 2 0 0 1 2 2 0 1 2 1 0 1 2 0\n",
      " 2 1 0 0 1 1 2 1 1 1 1 2 1 1 0 1 0 1 1 0 0 1 2 1 2 1 2 1 0 1 2 0 1 0 1 1 2\n",
      " 1 2 0 1 1 2 2 2 1 0 1 1 1 2 1 0 0 0 0 2 1 1 1 0 1 1 0 1 0 2 0 2 0 0 0 2 0\n",
      " 2 2 0 2 2 1 2 0 2 2 2 1 1 1 1 0 0 1 2 0 1 1 0 0 2 2 0 0 1 0 0 1 0 1 0 2 2\n",
      " 1 1 1 1 0 2 0 0 2 2 0 1 0 0 2 0 2 1 0 0 2 2 0 0 1 1 1 1 1 0 1 2 1 0 2 1 1\n",
      " 2 1 1 2 2 2 0 0 0 2 1 0 1 0 2 0 2 2 1 2 1 2 1 2 1 1 1 1]\n"
     ]
    }
   ],
   "source": [
    "print(clustering.labels_)"
   ]
  },
  {
   "cell_type": "code",
   "execution_count": 14,
   "metadata": {},
   "outputs": [],
   "source": [
    "sum_of_squared_distances = [] \n",
    "K = range(1,20) \n",
    "for k in K: \n",
    "    km = KMeans(n_clusters=k, random_state=12) \n",
    "    km = km.fit(X) \n",
    "    sum_of_squared_distances.append(km.inertia_) \n",
    "    "
   ]
  },
  {
   "cell_type": "code",
   "execution_count": 16,
   "metadata": {},
   "outputs": [
    {
     "data": {
      "text/plain": [
       "[6143.999999999994,\n",
       " 5128.841512614158,\n",
       " 4359.937398574243,\n",
       " 3918.9522674958857,\n",
       " 3625.743466542054,\n",
       " 3361.1548729764368,\n",
       " 3139.1614250735533,\n",
       " 3001.6825953441,\n",
       " 2876.629228303966,\n",
       " 2766.692164839358,\n",
       " 2666.735653172098,\n",
       " 2571.8495699764735,\n",
       " 2499.1639316490996,\n",
       " 2402.306245869712,\n",
       " 2325.0492100073902,\n",
       " 2273.670388270657,\n",
       " 2235.3980509903877,\n",
       " 2194.1243327050033,\n",
       " 2162.667720514332]"
      ]
     },
     "execution_count": 16,
     "metadata": {},
     "output_type": "execute_result"
    }
   ],
   "source": [
    "sum_of_squared_distances"
   ]
  },
  {
   "cell_type": "code",
   "execution_count": 20,
   "metadata": {},
   "outputs": [],
   "source": [
    "from sklearn.metrics import davies_bouldin_score, silhouette_score\n"
   ]
  },
  {
   "cell_type": "code",
   "execution_count": 17,
   "metadata": {},
   "outputs": [
    {
     "data": {
      "image/png": "[encoded data removed]",
      "text/plain": [
       "<Figure size 432x288 with 1 Axes>"
      ]
     },
     "metadata": {
      "needs_background": "light"
     },
     "output_type": "display_data"
    }
   ],
   "source": [
    "plt.plot(K, sum_of_squared_distances, 'bx-') \n",
    "plt.xlabel('k') \n",
    "plt.ylabel('sum_of_squared_distances') \n",
    "plt.title('Elbow Method For Optimal k') \n",
    "plt.show() "
   ]
  },
  {
   "cell_type": "code",
   "execution_count": 22,
   "metadata": {},
   "outputs": [
    {
     "name": "stdout",
     "output_type": "stream",
     "text": [
      "1.6830494194043766\n",
      "0.1795431040908445\n"
     ]
    }
   ],
   "source": [
    "dbval = davies_bouldin_score(X, clustering.labels_) \n",
    "sscore = silhouette_score(X, clustering.labels_) \n",
    "print(dbval) \n",
    "print(sscore) "
   ]
  },
  {
   "cell_type": "code",
   "execution_count": 28,
   "metadata": {},
   "outputs": [],
   "source": [
    "dbvals = [] \n",
    "sscores = [] \n",
    "for cls in range(9): \n",
    "    clustering = KMeans(n_clusters=cls+2,random_state=12) \n",
    "    clustering.fit(X) \n",
    "    dbval = davies_bouldin_score(X, clustering.labels_) \n",
    "    sscore = silhouette_score(X, clustering.labels_) \n",
    "    dbvals.append(dbval) \n",
    "    sscores.append(sscore) "
   ]
  },
  {
   "cell_type": "code",
   "execution_count": 29,
   "metadata": {},
   "outputs": [
    {
     "data": {
      "text/plain": [
       "range(0, 9)"
      ]
     },
     "execution_count": 29,
     "metadata": {},
     "output_type": "execute_result"
    }
   ],
   "source": [
    "range(9) "
   ]
  },
  {
   "cell_type": "code",
   "execution_count": 30,
   "metadata": {},
   "outputs": [
    {
     "name": "stdout",
     "output_type": "stream",
     "text": [
      "   No cluster  DB-Index  silhouette score\n",
      "0           2  2.005574          0.194507\n",
      "1           3  1.683049          0.179543\n",
      "2           4  1.494899          0.201749\n",
      "3           5  1.626217          0.188273\n",
      "4           6  1.631093          0.167942\n",
      "5           7  1.548150          0.168976\n",
      "6           8  1.546654          0.153810\n",
      "7           9  1.530663          0.165881\n",
      "8          10  1.568422          0.155320\n"
     ]
    }
   ],
   "source": [
    "df = pd.DataFrame({'No cluster': range(2,11), 'DB-Index': dbvals, 'silhouette score': sscores}) \n",
    "print(df) "
   ]
  },
  {
   "cell_type": "code",
   "execution_count": 36,
   "metadata": {},
   "outputs": [
    {
     "data": {
      "image/png": "[encoded data removed]",
      "text/plain": [
       "<Figure size 432x288 with 3 Axes>"
      ]
     },
     "metadata": {
      "needs_background": "light"
     },
     "output_type": "display_data"
    }
   ],
   "source": [
    "fig = plt.figure() \n",
    "axl = fig.add_subplot(221) \n",
    "axl.plot(df['No cluster'], df['DB-Index'], 'b-') \n",
    "\n",
    "\n",
    "axl.set_ylabel('DB-Index',color = 'b') \n",
    "axl.set_xlabel('No cluster', color = 'black') \n",
    "\n",
    "axl= fig.add_subplot(222) \n",
    "#fig = plt.figure() \n",
    "ax2 = axl.twinx() \n",
    "ax2.plot(df['No cluster'], df['silhouette score'], 'r-') \n",
    "ax2.set_ylabel('silhouette score', color='r') \n",
    "plt.show() "
   ]
  },
  {
   "cell_type": "code",
   "execution_count": 40,
   "metadata": {},
   "outputs": [
    {
     "data": {
      "image/png": "[encoded data removed]",
      "text/plain": [
       "<Figure size 432x288 with 2 Axes>"
      ]
     },
     "metadata": {
      "needs_background": "light"
     },
     "output_type": "display_data"
    }
   ],
   "source": [
    "fig = plt.figure() \n",
    "axl = fig.add_subplot(111) \n",
    "axl.plot(df['No cluster'], df['DB-Index'], 'b-') \n",
    "\n",
    "\n",
    "axl.set_ylabel('DB-Index',color = 'b') \n",
    "axl.set_xlabel('No cluster', color = 'black') \n",
    "\n",
    "\n",
    "#fig = plt.figure() \n",
    "ax2 = axl.twinx() \n",
    "ax2.plot(df['No cluster'], df['silhouette score'], 'r-') \n",
    "ax2.set_ylabel('silhouette score', color='r') \n",
    "plt.show() "
   ]
  },
  {
   "cell_type": "code",
   "execution_count": null,
   "metadata": {},
   "outputs": [],
   "source": []
  }
 ],
 "metadata": {
  "kernelspec": {
   "display_name": "Python 3",
   "language": "python",
   "name": "python3"
  },
  "language_info": {
   "codemirror_mode": {
    "name": "ipython",
    "version": 3
   },
   "file_extension": ".py",
   "mimetype": "text/x-python",
   "name": "python",
   "nbconvert_exporter": "python",
   "pygments_lexer": "ipython3",
   "version": "3.8.5"
  }
 },
 "nbformat": 4,
 "nbformat_minor": 4
}
